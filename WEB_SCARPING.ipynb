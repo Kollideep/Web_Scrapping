{
 "cells": [
  {
   "cell_type": "code",
   "execution_count": 2,
   "id": "dda5ca83",
   "metadata": {},
   "outputs": [],
   "source": [
    "import requests as req\n",
    "from bs4 import BeautifulSoup\n",
    "import csv\n",
    "import pandas as pd\n",
    "HEADERS= {'User-Agent':'Mozilla/5.0 (Windows NT 10.0; Win64; x64) AppleWebKit/537.36 (KHTML, like Gecko) Chromezzz/114.0.0.0 Safari/537.36'}"
   ]
  },
  {
   "cell_type": "code",
   "execution_count": 3,
   "id": "3bf2706a",
   "metadata": {},
   "outputs": [],
   "source": [
    "internship=pd.DataFrame()\n",
    "for i in range(1,162):\n",
    "    url = 'https://internshala.com/internships/page-{}/.format(i)'\n",
    "    # Send a GET Request to the url\n",
    "    response = req.get(url,HEADERS)\n",
    "    # Parse the HTML content using BeautifulSoup\n",
    "    soup = BeautifulSoup(response.content, \"html.parser\")\n",
    "    \n",
    "    internships_data = soup.find_all('div', {'class': 'internship_meta'})\n",
    "    company_names=[]\n",
    "    role=[]\n",
    "    location=[]\n",
    "    start_date=[]\n",
    "    duration=[]\n",
    "    stipend=[]\n",
    "\n",
    "    # Iterate over each product item\n",
    "    for item in internships_data:\n",
    "\n",
    "        # Extract company name\n",
    "        company_name = item.find('a', {'class': 'link_display_like_text view_detail_button'}).text.strip()\n",
    "        company_names.append(company_name)\n",
    "\n",
    "        # Extract role\n",
    "        roles = item.find('a', {'class': 'view_detail_button'}).text.strip()\n",
    "        role.append(roles)\n",
    "\n",
    "         # Extract location\n",
    "        loc = item.find_all('a', {'class':'location_link view_detail_button'})\n",
    "        s=\"\"\n",
    "        for k in loc:\n",
    "            s+=k.text+','\n",
    "        location.append(s[:-1])\n",
    "\n",
    "        # Extract start date\n",
    "        start_dt = item.find('span', {'class': 'start_immediately_desktop'}).text.strip()\n",
    "        start_date.append(start_dt)\n",
    "        #print(start_date)\n",
    "\n",
    "\n",
    "         # Extract duration\n",
    "        d = item.find_all('div', {'class': 'item_body'})[1].text.strip()\n",
    "        duration.append(d)\n",
    "\n",
    "        # Extract stipend\n",
    "        stpd = item.find('span', {'class': 'stipend'}).text.strip()\n",
    "        stipend.append(stpd)\n",
    "    d = {\n",
    "    'Company Name': company_names,\n",
    "    'Role': role,\n",
    "    'Location': location,\n",
    "    'Start Date': start_date,\n",
    "    'Duration' : duration,\n",
    "    'Stipend': stipend\n",
    "}\n",
    "\n",
    "    df=pd.DataFrame(d)\n",
    "    frames = [internship, df]\n",
    "\n",
    "    internship=pd.concat(frames)"
   ]
  },
  {
   "cell_type": "code",
   "execution_count": 4,
   "id": "e309da46",
   "metadata": {},
   "outputs": [],
   "source": [
    "\n",
    "# Save the dataframe to a csv file\n",
    "internship.to_csv('internshala_internships.csv', index=True)"
   ]
  },
  {
   "cell_type": "code",
   "execution_count": 5,
   "id": "2307e759",
   "metadata": {},
   "outputs": [],
   "source": [
    "import pandas as pd\n",
    "df = pd.DataFrame(internship)"
   ]
  },
  {
   "cell_type": "code",
   "execution_count": 6,
   "id": "ea73f99b",
   "metadata": {},
   "outputs": [
    {
     "data": {
      "text/html": [
       "<div>\n",
       "<style scoped>\n",
       "    .dataframe tbody tr th:only-of-type {\n",
       "        vertical-align: middle;\n",
       "    }\n",
       "\n",
       "    .dataframe tbody tr th {\n",
       "        vertical-align: top;\n",
       "    }\n",
       "\n",
       "    .dataframe thead th {\n",
       "        text-align: right;\n",
       "    }\n",
       "</style>\n",
       "<table border=\"1\" class=\"dataframe\">\n",
       "  <thead>\n",
       "    <tr style=\"text-align: right;\">\n",
       "      <th></th>\n",
       "      <th>Company Name</th>\n",
       "      <th>Role</th>\n",
       "      <th>Location</th>\n",
       "      <th>Start Date</th>\n",
       "      <th>Duration</th>\n",
       "      <th>Stipend</th>\n",
       "    </tr>\n",
       "  </thead>\n",
       "  <tbody>\n",
       "    <tr>\n",
       "      <th>0</th>\n",
       "      <td>Eximius, IIM Bangalore</td>\n",
       "      <td>Campus Ambassador</td>\n",
       "      <td>Work From Home</td>\n",
       "      <td>Immediately</td>\n",
       "      <td>4 Weeks</td>\n",
       "      <td>Performance Based</td>\n",
       "    </tr>\n",
       "    <tr>\n",
       "      <th>1</th>\n",
       "      <td>Tare Zameen Foundation</td>\n",
       "      <td>Fundraising</td>\n",
       "      <td>Work From Home</td>\n",
       "      <td>Immediately</td>\n",
       "      <td>1 Month</td>\n",
       "      <td>₹ 1,000 /month +  Incentives</td>\n",
       "    </tr>\n",
       "    <tr>\n",
       "      <th>2</th>\n",
       "      <td>Acuevers</td>\n",
       "      <td>Stock Market Management</td>\n",
       "      <td>Work From Home</td>\n",
       "      <td>Immediately</td>\n",
       "      <td>1 Month</td>\n",
       "      <td>₹ 1,000-4,000 /month</td>\n",
       "    </tr>\n",
       "    <tr>\n",
       "      <th>3</th>\n",
       "      <td>E-Cell IIT Bombay</td>\n",
       "      <td>Campus Ambassador</td>\n",
       "      <td>Work From Home</td>\n",
       "      <td>Immediately</td>\n",
       "      <td>4 Months</td>\n",
       "      <td>Performance Based</td>\n",
       "    </tr>\n",
       "    <tr>\n",
       "      <th>4</th>\n",
       "      <td>Triedge Platform Services Private Limited</td>\n",
       "      <td>Business Development (Sales)</td>\n",
       "      <td>Ghaziabad,Gurgaon,Noida</td>\n",
       "      <td>Immediately</td>\n",
       "      <td>6 Months</td>\n",
       "      <td>₹ 6,000 /month +  Incentives</td>\n",
       "    </tr>\n",
       "  </tbody>\n",
       "</table>\n",
       "</div>"
      ],
      "text/plain": [
       "                                Company Name                          Role  \\\n",
       "0                     Eximius, IIM Bangalore             Campus Ambassador   \n",
       "1                     Tare Zameen Foundation                   Fundraising   \n",
       "2                                   Acuevers       Stock Market Management   \n",
       "3                          E-Cell IIT Bombay             Campus Ambassador   \n",
       "4  Triedge Platform Services Private Limited  Business Development (Sales)   \n",
       "\n",
       "                  Location   Start Date  Duration  \\\n",
       "0           Work From Home  Immediately   4 Weeks   \n",
       "1           Work From Home  Immediately   1 Month   \n",
       "2           Work From Home  Immediately   1 Month   \n",
       "3           Work From Home  Immediately  4 Months   \n",
       "4  Ghaziabad,Gurgaon,Noida  Immediately  6 Months   \n",
       "\n",
       "                        Stipend  \n",
       "0             Performance Based  \n",
       "1  ₹ 1,000 /month +  Incentives  \n",
       "2          ₹ 1,000-4,000 /month  \n",
       "3             Performance Based  \n",
       "4  ₹ 6,000 /month +  Incentives  "
      ]
     },
     "execution_count": 6,
     "metadata": {},
     "output_type": "execute_result"
    }
   ],
   "source": [
    "df.head(5)"
   ]
  },
  {
   "cell_type": "code",
   "execution_count": 7,
   "id": "1af84149",
   "metadata": {},
   "outputs": [
    {
     "name": "stdout",
     "output_type": "stream",
     "text": [
      "7889\n"
     ]
    }
   ],
   "source": [
    "print(len(internship))"
   ]
  },
  {
   "cell_type": "code",
   "execution_count": null,
   "id": "0935b992",
   "metadata": {},
   "outputs": [],
   "source": []
  },
  {
   "cell_type": "code",
   "execution_count": null,
   "id": "84344cc7",
   "metadata": {},
   "outputs": [],
   "source": []
  },
  {
   "cell_type": "code",
   "execution_count": null,
   "id": "90e2db34",
   "metadata": {},
   "outputs": [],
   "source": []
  },
  {
   "cell_type": "code",
   "execution_count": null,
   "id": "39273839",
   "metadata": {},
   "outputs": [],
   "source": []
  },
  {
   "cell_type": "code",
   "execution_count": null,
   "id": "a9e1014e",
   "metadata": {},
   "outputs": [],
   "source": []
  }
 ],
 "metadata": {
  "kernelspec": {
   "display_name": "Python 3",
   "language": "python",
   "name": "python3"
  },
  "language_info": {
   "codemirror_mode": {
    "name": "ipython",
    "version": 3
   },
   "file_extension": ".py",
   "mimetype": "text/x-python",
   "name": "python",
   "nbconvert_exporter": "python",
   "pygments_lexer": "ipython3",
   "version": "3.8.8"
  }
 },
 "nbformat": 4,
 "nbformat_minor": 5
}
